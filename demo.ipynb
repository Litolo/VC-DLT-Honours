{
 "cells": [
  {
   "cell_type": "markdown",
   "metadata": {},
   "source": [
    "<h2><b>IMPORTANT</b></h2> \n",
    "There are parts in this jupyter notebook which depend on private API keys. If you do not have a .env file with the keys in this directory, they will not work. Sections which require API keys will be declared explicitly. Alterantives will be provided to those not wishing to create their own API keys. For example, connecting to the Sepolia testnet requires a gateway, which we will require an API to access, as well as an API key to get access to the network itself.\n",
    "\n",
    "Disclosure - metrics provided in the report have been taken from running transactions on the <b>Sepolia testnet</b>, if you do not wish to supply API keys you will be using a local network. The metrics (gas cost) may not be the same however functionality is the exact same.\n"
   ]
  },
  {
   "cell_type": "markdown",
   "metadata": {},
   "source": [
    ".env structure:\n",
    "\n",
    "GATEWAY_URL=[your url here]<br>\n",
    "GATEWAY_TOKEN=[your token here]<br>\n",
    "PINATA_API_KEY=[your pinata api key here]<br>\n",
    "INFURA_API_KEY=[your infura api key here]<br>\n",
    "SEPOLIA_PRIVATE_KEY=[your sepolia api key here]"
   ]
  },
  {
   "cell_type": "markdown",
   "metadata": {},
   "source": [
    "Imports any packages. \n",
    "\n",
    "You will need a valid node.js installation, see <a>https://nodejs.org/en/learn/getting-started/how-to-install-nodejs</a> for support with this.<br>\n",
    "\n",
    "Note: \n",
    "- these commands will run in the shell, for full dependencies and package str(base64.b64encode please see package.json file.\n",
    "- Most of the code for contract interaction have been done via JS scripts. This jupyter notebook will run the scripts rather than create python code for interaction on top of the already existant JS code. If you wish to read the JS code, see the scripts folder for the relevant file. This is done mainly to save my time so that I can actually meet the project deadline instead of spending time on migrating code between languages for demonstration purposes. While I could probably create the same functionality in Python, APIs are not as extensive and so I will likely have to encode data manually (or at least spend a lot of time creating a dynamic encoding approach, whereas the web3.js or ethers.js modules do a lot of the heavy lifting for us, even compared to web3.py which does not include many features). \n"
   ]
  },
  {
   "cell_type": "code",
   "execution_count": null,
   "metadata": {},
   "outputs": [],
   "source": [
    "! npm install\n",
    "! pip install -r requirements.txt\n",
    "import os\n",
    "import json\n",
    "import requests\n",
    "from dotenv import load_dotenv\n",
    "load_dotenv()\n",
    "from Crypto.Cipher import AES\n",
    "from Crypto.Random import get_random_bytes\n",
    "import pandas as pd\n",
    "import matplotlib.pyplot as plt\n",
    "from datetime import datetime\n",
    "from base64 import b64encode, b64decode\n",
    "# Make the sample and metrics directories if they dont exist, this is where we will store temp files for the demo\n",
    "path = os.path.join(os.getcwd(), 'sample') \n",
    "try:\n",
    "    os.mkdir(path)\n",
    "except:\n",
    "    pass\n",
    "try:\n",
    "    os.mkdir(os.path.join(path, 'metrics') )\n",
    "except:\n",
    "    pass\n",
    "try:\n",
    "    os.mkdir(os.path.join(path, 'graphs') )\n",
    "except:\n",
    "    pass"
   ]
  },
  {
   "cell_type": "markdown",
   "metadata": {},
   "source": [
    "First, the issuance and verification contracts are deployed by the issuer. Only the issuer (the owner) can call functions on the contract. We need to have a contract deployed before we can upload any credentials to IPFS because we will need the contract addresses for issuence and verification (so that the verifier can verify without needing to know any prior information, more on this later)."
   ]
  },
  {
   "cell_type": "markdown",
   "metadata": {},
   "source": [
    "If you have set up your Infura (or Equivalent) and Sepolia API keys, run code block 1. Otherwise run code block 2.\n",
    "\n",
    "If running code block 2, you will need to start a local node. The command is:<br>\n",
    "- npx hardhat node\n",
    "\n",
    "copy this into a seperate terminal and keep it open"
   ]
  },
  {
   "cell_type": "code",
   "execution_count": null,
   "metadata": {},
   "outputs": [],
   "source": [
    "# Code block 1.\n",
    "# run only if you have set up your API keys for sepolia network interaction\n",
    "# don't worry if the code hangs for a while, it takes a bit of time\n",
    "\n",
    "! npx hardhat compile\n",
    "! npx hardhat run scripts/demo/deploy.ts --network sepolia "
   ]
  },
  {
   "cell_type": "code",
   "execution_count": 2,
   "metadata": {},
   "outputs": [
    {
     "name": "stdout",
     "output_type": "stream",
     "text": [
      "\u001b[33m\u001b[1mWARNING:\u001b[22m\u001b[39m You are currently using Node.js v21.4.0, which is not supported by Hardhat. This can lead to unexpected behavior. See https://hardhat.org/nodejs-versions\n",
      "\n",
      "\n",
      "Nothing to compile\n",
      "No need to generate any newer typings.\n",
      "\u001b[33m\u001b[1mWARNING:\u001b[22m\u001b[39m You are currently using Node.js v21.4.0, which is not supported by Hardhat. This can lead to unexpected behavior. See https://hardhat.org/nodejs-versions\n",
      "\n",
      "\n",
      "Issue deployed to 0x5FbDB2315678afecb367f032d93F642f64180aa3, with owner at 0xf39Fd6e51aad88F6F4ce6aB8827279cffFb92266\n",
      "Verify deployed to 0xa16E02E87b7454126E5E10d957A927A7F5B5d2be, with linked issue contract at 0x5FbDB2315678afecb367f032d93F642f64180aa3\n"
     ]
    }
   ],
   "source": [
    "# Code block 2.\n",
    "# run network on localhost\n",
    "# you will need to run the following command in a seperate terminal on your computer: npx hardhat node\n",
    "# to create a local node\n",
    "! npx hardhat compile\n",
    "! npx hardhat run scripts/demo/deploy.ts --network localhost"
   ]
  },
  {
   "cell_type": "markdown",
   "metadata": {},
   "source": [
    "Since address can change between contract deployments, we will save the addresses to a file called addresses.json in the sample/ folder.\n",
    "\n",
    "In a real use case, the issuer would similarly save the addresses somewhere in their internal systems. Both the verifier and issuer contract addresses will never change (unless they deploy a new issuence contract) so they will only have to save it once."
   ]
  },
  {
   "cell_type": "code",
   "execution_count": 3,
   "metadata": {},
   "outputs": [],
   "source": [
    "with open('sample/addresses.json', 'r') as f:\n",
    "    data=f.read()\n",
    "f.close()\n",
    "\n",
    "obj = json.loads(data)\n",
    "issue_address = obj['issue_contract_address']\n",
    "issuer_address = obj['issuer_address']\n",
    "verify_address = obj['verify_contract_address']\n",
    "holder_addresses = obj['holder_addresses']"
   ]
  },
  {
   "cell_type": "markdown",
   "metadata": {},
   "source": []
  },
  {
   "cell_type": "markdown",
   "metadata": {},
   "source": [
    "The issuer can then create a credential expressed in JSON, following the W3C verifiable credential data model guidelines <a>https://www.w3.org/TR/vc-data-model/</a>. There is one attribute added from those in the W3C data model, which is \"metadata\". In this attribute we include the the issue and verify contract addresses so that the verifier, when sent the verifiable presentation, can directly verify the credential without having to require any pre-existing knowledge. Information of the expected attributes in the metadata object would be outlined from one of the URI in @context.\n",
    "\n",
    "For this demonstration, parsing of credential fields will not be done after the credential is verified in this framework. Some URIs in the credential may not be resolvable but for real implementations should be. These can be resolvable via typical http(s) protocol or via interplantary file system (ipfs) (more on this later).\n",
    "\n",
    "what is IPFS? <a>https://ipfs.tech/developers/</a><br>\n",
    "in short, a distributed network which we can use to permentantly store files. Once a file is uploaded, IPFS generates a content identifier (CID) based on the content in the file. This CID only ever points to one resource. If the same resource is uploaded will slight modifications, the CID changes. This makes resources on IPFS immutable."
   ]
  },
  {
   "cell_type": "code",
   "execution_count": 4,
   "metadata": {},
   "outputs": [
    {
     "name": "stdout",
     "output_type": "stream",
     "text": [
      "You can view the encrypted credential in sample/credential.json\n"
     ]
    }
   ],
   "source": [
    "# create an example JSON credential and save it a file in sample folder\n",
    "# need to conver byte arrays to strings to save to json file, can be converted back later\n",
    "decrypt_info = []\n",
    "ciphers = []\n",
    "for i in range(12):\n",
    "  key = get_random_bytes(16)\n",
    "  cipher = AES.new(key, AES.MODE_EAX)\n",
    "  decrypt_info.append({\"key\": b64encode(key).decode('utf-8'),\n",
    "   \"nonce\": b64encode(cipher.nonce).decode('utf-8')})\n",
    "  ciphers.append(cipher)\n",
    "\n",
    "cred = {\n",
    "    \"@context\":[\n",
    "        \"https://www.w3.org/2018/credentials/v1\",\n",
    "        \"ipfs://12345\"\n",
    "    ],\n",
    "    \"metadata\":{\n",
    "      \"issue_address\": issue_address,\n",
    "      \"verify_address\": verify_address,\n",
    "      \"network\":\"Ethereum-mainnet\",\n",
    "    },\n",
    "    \"first_name\": b64encode(ciphers[0].encrypt(b'John')).decode('utf-8'),\n",
    "    \"last_name\": b64encode(ciphers[1].encrypt(b'Doe')).decode('utf-8'),\n",
    "    \"date_birth\": b64encode(ciphers[2].encrypt(b'1995-12-26T00:00:00.000Z')).decode('utf-8'),\n",
    "    \"place_birth\": b64encode(ciphers[3].encrypt(b'Aberdeen')).decode('utf-8'),\n",
    "    \"issuence_date\": b64encode(ciphers[4].encrypt(b'2020-11-20T00:00:00.000Z')).decode('utf-8'),\n",
    "    \"expiration\": b64encode(ciphers[5].encrypt(b'2025-11-20T00:00:00.000Z')).decode('utf-8'),\n",
    "    \"issuing_authority\": b64encode(ciphers[6].encrypt(b'DVLA')).decode('utf-8'),\n",
    "    \"driver_number\": b64encode(ciphers[7].encrypt(b'12345')).decode('utf-8'),\n",
    "    \"photo\": b64encode(ciphers[8].encrypt(b'https://a_link_to_somewhere/photo.jpg')).decode('utf-8'),\n",
    "    \"holder_address\": b64encode(ciphers[9].encrypt(b'20 Bogus Street, Somewhere')).decode('utf-8'),\n",
    "    \"entitlements\": [\n",
    "      {\n",
    "        \"category\": b64encode(ciphers[10].encrypt(b'B1')).decode('utf-8'),\n",
    "        \"valid_from\": b64encode(ciphers[10].encrypt(b'2020-11-20T00:00:00.000Z')).decode('utf-8'),\n",
    "        \"valid_to\": b64encode(ciphers[10].encrypt(b'2025-11-20T00:00:00.000Z')).decode('utf-8')\n",
    "      },\n",
    "      {\n",
    "        \"category\": b64encode(ciphers[11].encrypt(b'A3')).decode('utf-8'),\n",
    "        \"valid_from\": b64encode(ciphers[11].encrypt(b'2020-11-20T00:00:00.000Z')).decode('utf-8'),\n",
    "        \"valid_to\": b64encode(ciphers[11].encrypt(b'2025-11-20T00:00:00.000Z')).decode('utf-8')\n",
    "      }\n",
    "    ],\n",
    "    \"proof\": {\n",
    "        \"type\": \"Ed25519Signature2020\",\n",
    "        \"created\": \"2021-11-13T18:19:39Z\",\n",
    "        \"verificationMethod\": \"https://example.edu/issuers/14#key-1\",\n",
    "        \"proofPurpose\": \"assertionMethod\",\n",
    "        \"proofValue\": \"z58DAdFfa9SkqZMVPxAQpic7ndSayn1PzZs6ZjWp1CktyGesjuTSwRdoWhAfGFCF5bppETSTojQCrfFPP2oumHKtz\"\n",
    "    }\n",
    "}\n",
    "with open(path+\"/credential.json\", 'w') as f:\n",
    "  json.dump(cred, f, ensure_ascii=False, indent=4)\n",
    "\n",
    "print(\"You can view the encrypted credential in sample/credential.json\")"
   ]
  },
  {
   "cell_type": "markdown",
   "metadata": {},
   "source": [
    "JSON files cannot hold bytes type directly so I convert to b64encode so that it can be converted back, I had problems with string encoding, I am sure there is a better way to do it but the implementation of the sepcific encryption algorithm is not of concern to this framework, as long as it meets the requirements:\n",
    "- data can be encrypted and stored in a decentralised location\n",
    "- key can be transfered securely\n",
    "- if someone holds key(s) or other secret information, they can decrypt the data store in decentralised location\n",
    "- the usual cryptographic security requirements (data not decryptable without key, cannot infer plaintext from ciphertext, etc.)\n",
    "\n",
    "Notice in the @context attribute we have an ipfs protocol URI. This is a resource which is stored on the decentralised ipfs network and found in just the same way that this credential was found. This alleviates the potential issue of Issuers changing data which invalidates credential integrity, since resources stored via ipfs are immutable. \n",
    "\n",
    "Credential claims are encrypted. The Issuer then supplies the holder with all the keys for each claim. Each claim is encrypted using a seperate key. Later the holder will selectively send keys to the Verifier depending on the claims they wish to reveal (explained further later).\n",
    "\n",
    "For now we will bundle the keys into a similar object as above. This is still digitally signed (requires a proof) and still needs the @context so it it can be machine readable.\n"
   ]
  },
  {
   "cell_type": "code",
   "execution_count": 5,
   "metadata": {},
   "outputs": [
    {
     "name": "stdout",
     "output_type": "stream",
     "text": [
      "You can view the generate keys in sample/credential_keys.json\n"
     ]
    }
   ],
   "source": [
    "cred_keys = {\n",
    "    \"@context\":[\n",
    "        \"https://www.w3.org/2018/credentials/v1\",\n",
    "        \"https://example.edu/credential_keys_layout#drivers_licences\"\n",
    "    ],\n",
    "    \"metadata\":{\n",
    "      \"issue_address\": issue_address,\n",
    "      \"verify_address\": verify_address,\n",
    "      \"network\":\"Ethereum-mainnet\",\n",
    "    },\n",
    "    \"first_name\": decrypt_info[0],\n",
    "    \"last_name\": decrypt_info[1],\n",
    "    \"date_birth\": decrypt_info[2],\n",
    "    \"place_birth\": decrypt_info[3],\n",
    "    \"issuence_date\": decrypt_info[4],\n",
    "    \"expiration\": decrypt_info[5],\n",
    "    \"issuing_authority\": decrypt_info[6],\n",
    "    \"driver_number\": decrypt_info[7],\n",
    "    \"photo\": decrypt_info[8],\n",
    "    \"holder_address\": decrypt_info[9],\n",
    "    \"entitlements\": [\n",
    "      {\n",
    "        \"category\": decrypt_info[10],\n",
    "        \"valid_from\": decrypt_info[10],\n",
    "        \"valid_to\": decrypt_info[10]\n",
    "      },\n",
    "      {\n",
    "        \"category\": decrypt_info[11],\n",
    "        \"valid_from\": decrypt_info[11],\n",
    "        \"valid_to\": decrypt_info[11]\n",
    "      }\n",
    "    ],\n",
    "    \"proof\": {\n",
    "        \"type\": \"Ed25519Signature2020\",\n",
    "        \"created\": \"2021-11-13T18:19:39Z\",\n",
    "        \"verificationMethod\": \"https://example.edu/issuers/14#key-1\",\n",
    "        \"proofPurpose\": \"assertionMethod\",\n",
    "        \"proofValue\": \"z58DAdFfa9SkqZMVPxAQpic7ndSayn1PzZs6ZjWp1CktyGesjuTSwRdoWhAfGFCF5bppETSTojQCrfFPP2oumHKtz\"\n",
    "    }\n",
    "}\n",
    "with open(path+\"/credential_keys.json\", 'w') as f:\n",
    "  json.dump(cred_keys, f, ensure_ascii=False, indent=4)\n",
    "\n",
    "print(\"You can view the generate keys in sample/credential_keys.json\")\n"
   ]
  },
  {
   "cell_type": "markdown",
   "metadata": {},
   "source": [
    "There is possibility to extend the implementation to allow access privilege to others, however this was not done for this implementation for simplicity. For potential implementations to grant/revoke roles see <a>https://docs.openzeppelin.com/contracts/3.x/access-control</a>\n",
    "\n",
    "A potential use case for this might be:\n",
    "- A verified licening authority (lets say DVLA for drivers licences) creates an issuence and verification smart contract. The owner virtual address is the only one who can access any methods in the smart contract at first. The owner can then selectively authorise other address to call methods on the smart contract (create licences). The DVLA would likely authorise virtual addresses of multiple machines which they use to issue licence, over multiple locations, instead of just the one."
   ]
  },
  {
   "cell_type": "markdown",
   "metadata": {},
   "source": [
    "Now that the issuer has the credential, they will upload it to the IPFS. This can be done through any IPFS gateway.\n",
    "\n",
    "There are two options:\n",
    "- Upload via pinata API using python in Block 1.\n",
    "- Block 2 is done via JS script. Uses the pinata API to add files to IPFS. You will need to configure pinata keys.\n",
    "\n",
    "Block 1 and 2 are equivalent.\n",
    "\n",
    "Optionally, you can set up a local ipfs daemon and upload/fetch through there."
   ]
  },
  {
   "cell_type": "code",
   "execution_count": 6,
   "metadata": {},
   "outputs": [
    {
     "name": "stdout",
     "output_type": "stream",
     "text": [
      "uploaded with CID: bafkreia6jemlfe2yl535mnewwsnil5so6pbf6hubbp5richzieftbb5ij4\n"
     ]
    }
   ],
   "source": [
    "# Block 1\n",
    "\n",
    "url = \"https://api.pinata.cloud/pinning/pinJSONToIPFS\"\n",
    "id = \"sample_credential\"\n",
    "payload = {\n",
    "    \"pinataContent\": cred,\n",
    "    \"pinataMetadata\": {\"name\": id},\n",
    "    \"pinataOptions\": {\"cidVersion\": 1}\n",
    "}\n",
    "headers = {\n",
    "    \"Authorization\": \"Bearer {}\".format(os.getenv('PINATA_API_KEY')),\n",
    "    \"Content-Type\": \"application/json\"\n",
    "}\n",
    "\n",
    "response = requests.request(\"POST\", url, json=payload, headers=headers)\n",
    "CID = json.loads(response.text)['IpfsHash']\n",
    "print(\"uploaded with CID:\", CID)\n",
    "\n",
    "with open(path+\"/CIDs.json\", 'w') as f:\n",
    "  json.dump({\"CID\":CID, \"id\":id}, f, ensure_ascii=False, indent=4)"
   ]
  },
  {
   "cell_type": "code",
   "execution_count": null,
   "metadata": {},
   "outputs": [],
   "source": [
    "# Block 2\n",
    "# via JS script\n",
    "!npx hardhat run scripts/demo/upload_credentials.ts"
   ]
  },
  {
   "cell_type": "markdown",
   "metadata": {},
   "source": [
    "Issue and Verify contracts are now deployed. Now the Issuer will send a transaction to the issuance contract to create a credential NFT and bind it to a holder's virtual address (make them the owner). The Issuer will supply the CID of the credential.json folder uploaded via IPFS earlier. This will serves as the NFT's URI.\n"
   ]
  },
  {
   "cell_type": "markdown",
   "metadata": {},
   "source": [
    "- Block 1 runs a JS script to create a licence NFT on the sepolia public testnet (you need to configure your keys).<br>\n",
    "- Block 2 runs a JS script to create a licence NFT on a local network (remember you need to start a local node first for this to work with command: npx hardhat node)\n",
    "\n",
    "scripts will generate a NFTs.json file in the sample folder which will contain the NFT id and the address of the holder."
   ]
  },
  {
   "cell_type": "code",
   "execution_count": null,
   "metadata": {},
   "outputs": [],
   "source": [
    "# Block 1\n",
    "# Needs infura and sepolia keys configured\n",
    "!npx hardhat run scripts/demo/issue.ts --network sepolia"
   ]
  },
  {
   "cell_type": "code",
   "execution_count": 7,
   "metadata": {},
   "outputs": [
    {
     "name": "stdout",
     "output_type": "stream",
     "text": [
      "\u001b[33m\u001b[1mWARNING:\u001b[22m\u001b[39m You are currently using Node.js v21.4.0, which is not supported by Hardhat. This can lead to unexpected behavior. See https://hardhat.org/nodejs-versions\n",
      "\n",
      "\n",
      "NFT create with id: 0, to holder with address: 0x70997970C51812dc3A010C7d01b50e0d17dc79C8\n"
     ]
    }
   ],
   "source": [
    "# Block 2\n",
    "# Needs local node running\n",
    "# do following command in seperate terminal: npx hardhat node\n",
    "!npx hardhat run scripts/demo/issue.ts --network localhost"
   ]
  },
  {
   "cell_type": "markdown",
   "metadata": {},
   "source": [
    "Now we will assume that the issuer sends the id of the NFT to the holder (or the holder finds out their ID some way). The issuer also sends the keys to decrypt the claims to the holder.\n",
    "\n",
    "Using the NFT id, the holder will call the issuence contract to find the URI for the credential. Then the holder can retreive their credential from IPFS using the CID. From there they can decrypt the claims and ensure the information is correct.\n",
    "\n",
    "Block 1 for Sepolia. Block 2 for localhost."
   ]
  },
  {
   "cell_type": "code",
   "execution_count": null,
   "metadata": {},
   "outputs": [],
   "source": [
    "!npx hardhat run scripts/demo/fetch_credentials.ts --network sepolia"
   ]
  },
  {
   "cell_type": "code",
   "execution_count": 8,
   "metadata": {},
   "outputs": [
    {
     "name": "stdout",
     "output_type": "stream",
     "text": [
      "\u001b[33m\u001b[1mWARNING:\u001b[22m\u001b[39m You are currently using Node.js v21.4.0, which is not supported by Hardhat. This can lead to unexpected behavior. See https://hardhat.org/nodejs-versions\n",
      "\n",
      "\n",
      "Found encrypted credential:\n",
      " {\n",
      "  \u001b[32m'@context'\u001b[39m: [ \u001b[32m'https://www.w3.org/2018/credentials/v1'\u001b[39m, \u001b[32m'ipfs://12345'\u001b[39m ],\n",
      "  metadata: {\n",
      "    issue_address: \u001b[32m'0x5FbDB2315678afecb367f032d93F642f64180aa3'\u001b[39m,\n",
      "    verify_address: \u001b[32m'0xa16E02E87b7454126E5E10d957A927A7F5B5d2be'\u001b[39m,\n",
      "    network: \u001b[32m'Ethereum-mainnet'\u001b[39m\n",
      "  },\n",
      "  first_name: \u001b[32m'yFyZtg=='\u001b[39m,\n",
      "  last_name: \u001b[32m'IMZX'\u001b[39m,\n",
      "  date_birth: \u001b[32m'hjQiQiIM8rjoYbPU4JcR/c/QZR7RF/qa'\u001b[39m,\n",
      "  place_birth: \u001b[32m'xx3PO8q3vnw='\u001b[39m,\n",
      "  issuence_date: \u001b[32m'1Z/kEyJajqK0jGIbP9JhVFm4hIX2EPaf'\u001b[39m,\n",
      "  expiration: \u001b[32m'CWWEiBYYG9IQwHGbzbKUjZJgJllbTNeV'\u001b[39m,\n",
      "  issuing_authority: \u001b[32m'7JRWhQ=='\u001b[39m,\n",
      "  driver_number: \u001b[32m'QI8NrD0='\u001b[39m,\n",
      "  photo: \u001b[32m'8sIY++fFby8LdzuodcIkxmpmWxtL/LhfDY6vKCJC4chwLhIW3Q=='\u001b[39m,\n",
      "  holder_address: \u001b[32m'MppEU/YY/qZXT72mkuR1HQKyD2bZmO71ajE='\u001b[39m,\n",
      "  entitlements: [\n",
      "    {\n",
      "      category: \u001b[32m'rug='\u001b[39m,\n",
      "      valid_from: \u001b[32m'rhQjF2aE18fV4Dng4ZP88hnylWwl3gbx'\u001b[39m,\n",
      "      valid_to: \u001b[32m'aO6rBqeKNcnaCH2uAlJEpSw3vvUrVKAZ'\u001b[39m\n",
      "    },\n",
      "    {\n",
      "      category: \u001b[32m'WvE='\u001b[39m,\n",
      "      valid_from: \u001b[32m'TIETEqOkFdFBN+M3nVdgeVccn4bdeGGo'\u001b[39m,\n",
      "      valid_to: \u001b[32m'e/e4QWspUIvyJ7tjx5eR6cAU7tWUPszZ'\u001b[39m\n",
      "    }\n",
      "  ],\n",
      "  proof: {\n",
      "    type: \u001b[32m'Ed25519Signature2020'\u001b[39m,\n",
      "    created: \u001b[32m'2021-11-13T18:19:39Z'\u001b[39m,\n",
      "    verificationMethod: \u001b[32m'https://example.edu/issuers/14#key-1'\u001b[39m,\n",
      "    proofPurpose: \u001b[32m'assertionMethod'\u001b[39m,\n",
      "    proofValue: \u001b[32m'z58DAdFfa9SkqZMVPxAQpic7ndSayn1PzZs6ZjWp1CktyGesjuTSwRdoWhAfGFCF5bppETSTojQCrfFPP2oumHKtz'\u001b[39m\n",
      "  }\n",
      "} \n",
      "using NFT id: \u001b[33m0\u001b[39m which resolved to CID: ipfs://bafkreia6jemlfe2yl535mnewwsnil5so6pbf6hubbp5richzieftbb5ij4\n"
     ]
    }
   ],
   "source": [
    "!npx hardhat run scripts/demo/fetch_credentials.ts --network localhost"
   ]
  },
  {
   "cell_type": "markdown",
   "metadata": {},
   "source": [
    "We can see the credential matches what the issuer uploaded to IPFS originally. Remember, anyone can call find this encrypted credential if they know either the NFT id or the IPFS CID. They can only decrypt the claims in the credential if they acquire the decryption information (keys and nonces or whatever other information is needed for decryption depending on the encryption scheme).\n",
    "\n",
    "Below shows an example of decryption. This could be either the holder after they first receive confirmation of credential issuence from the issuer, and they wish to verify that the claims are as they should be, or it could be the verifier decrpyting the credential based on the keys supplied from the holder."
   ]
  },
  {
   "cell_type": "code",
   "execution_count": 9,
   "metadata": {},
   "outputs": [
    {
     "name": "stdout",
     "output_type": "stream",
     "text": [
      "First name decrypted as John, should be John\n",
      "First entitlement category decrypted as B1, should be B1\n"
     ]
    }
   ],
   "source": [
    "# I am only going to decrypt first name and an entitlement just as an example. \n",
    "# This is just to show that you can get back to the plaintext from the encrypted strings in the JSON file\n",
    "\n",
    "# I know the credential is still saved in jupyter notebook variable but I want to demonstrate the ability to decrypt directly from the file\n",
    "with open('sample/credential.json', 'r') as f:\n",
    "    cred_raw=f.read()\n",
    "f.close()\n",
    "with open('sample/credential_keys.json', 'r') as f:\n",
    "    keys_raw=f.read()\n",
    "f.close()\n",
    "\n",
    "cred = json.loads(cred_raw)\n",
    "cred_keys = json.loads(keys_raw)\n",
    "cipher = AES.new(b64decode(cred_keys[\"first_name\"][\"key\"]), AES.MODE_EAX, b64decode(cred_keys[\"first_name\"][\"nonce\"]))\n",
    "plaintext = cipher.decrypt(b64decode(cred[\"first_name\"]))\n",
    "\n",
    "print(\"First name decrypted as \"+plaintext.decode('utf-8')+\", should be John\")\n",
    "\n",
    "cipher = AES.new(b64decode(cred_keys[\"entitlements\"][0][\"category\"][\"key\"]), AES.MODE_EAX, b64decode(cred_keys[\"entitlements\"][0][\"category\"][\"nonce\"]))\n",
    "plaintext = cipher.decrypt(b64decode(cred[\"entitlements\"][0][\"category\"]))\n",
    "\n",
    "print(\"First entitlement category decrypted as \"+plaintext.decode('utf-8')+\", should be B1\")"
   ]
  },
  {
   "cell_type": "markdown",
   "metadata": {},
   "source": [
    "Now the holder will send the verifier their NFT id, a hash of the decrypted credential and their keys (they may choose to leave some keys out if they do not want to disclose the information).\n",
    "\n",
    "On the verifier's side:\n",
    "1. They will first call the verify contract with the NFT id and holder's address as parameters. Depending on the status code result they obtain they will reject (and inform the holder why it is rejected) or accept the credential.\n",
    "2. Decrypt the claims in the credential based on the keys the holder sends them and verify the digital signature of the key presentation (remember, the W3C VC data model requires proof in VC presentations as well)\n",
    "3. Verify the hash sent by the holder matches what they calculate\n",
    "\n",
    "<b>How does the verifier know the address of the verify contract?</b> <br>\n",
    "Answer: The holder sends a verifiable presentation of their NFT which includes the id and the contract it was issued from.<br><br>\n",
    "<b>What if the holder sends an NFT minted by a different contract, and presents it as a genuine credential?</b> <br>\n",
    "Answer: Lets say the holder deploys their own issuence and verification contract and try to issue their own credentials. Since smart contracts are immutable and publicly viewable to any participant in a blockchain network, if the verifier sees that the credential was created by an address they did not recognise, or the owner of the smart contract was someone they did not recognise, or that the smart contract's code did not match what they were expecting (for example if there are no access restrictions on who can create/mint credentials/NFTs in a contract), they will reject the credential. This of course assumes some form of a verifiable data registry to store which contract addresses belong to whom and which contract addresses are genuine, which is a common requirement of other implementations."
   ]
  },
  {
   "cell_type": "code",
   "execution_count": null,
   "metadata": {},
   "outputs": [],
   "source": [
    "# calls the verify contract\n",
    "\n",
    "# goes through each use case\n",
    "# may take a bit to execute...\n",
    "!npx hardhat run scripts/demo/verify.ts --network sepolia"
   ]
  },
  {
   "cell_type": "code",
   "execution_count": 10,
   "metadata": {},
   "outputs": [
    {
     "name": "stdout",
     "output_type": "stream",
     "text": [
      "\u001b[33m\u001b[1mWARNING:\u001b[22m\u001b[39m You are currently using Node.js v21.4.0, which is not supported by Hardhat. This can lead to unexpected behavior. See https://hardhat.org/nodejs-versions\n",
      "\n",
      "\n",
      "verifier: 0x3C44CdDdB6a900fa2b585dd299e03d12FA4293BC verifies holder: 0x70997970C51812dc3A010C7d01b50e0d17dc79C8 \n",
      "using contract: 0xa16E02E87b7454126E5E10d957A927A7F5B5d2be for NFT with ID: \u001b[33m0\u001b[39m \n",
      "\n",
      "ACCEPTED\n",
      "\n",
      "Changing holder address...\n",
      "verifier: 0x3C44CdDdB6a900fa2b585dd299e03d12FA4293BC verifies holder: 0x3C44CdDdB6a900fa2b585dd299e03d12FA4293BC \n",
      "using contract: 0xa16E02E87b7454126E5E10d957A927A7F5B5d2be for NFT with ID: \u001b[33m0\u001b[39m \n",
      "\n",
      "REJECTED, not the owner of the token\n",
      "\n",
      "Changing back the holder address...\n",
      "Suspending credential with id: \u001b[33m0\u001b[39m\n",
      "verifier: 0x3C44CdDdB6a900fa2b585dd299e03d12FA4293BC verifies holder: 0x70997970C51812dc3A010C7d01b50e0d17dc79C8 \n",
      "using contract: 0xa16E02E87b7454126E5E10d957A927A7F5B5d2be for NFT with ID: \u001b[33m0\u001b[39m \n",
      "\n",
      "REJECTED, token has been suspended by the issuer\n",
      "\n",
      "reinstating credential...\n",
      "verifier: 0x3C44CdDdB6a900fa2b585dd299e03d12FA4293BC verifies holder: 0x70997970C51812dc3A010C7d01b50e0d17dc79C8 \n",
      "using contract: 0xa16E02E87b7454126E5E10d957A927A7F5B5d2be for NFT with ID: \u001b[33m10000\u001b[39m \n",
      "\n",
      "REJECTED, Token does not exist\n",
      "\n",
      "Revoking credential...\n",
      "verifier: 0x3C44CdDdB6a900fa2b585dd299e03d12FA4293BC verifies holder: 0x70997970C51812dc3A010C7d01b50e0d17dc79C8 \n",
      "using contract: 0xa16E02E87b7454126E5E10d957A927A7F5B5d2be for NFT with ID: \u001b[33m0\u001b[39m \n",
      "\n",
      "REJECTED, token has been revoked\n",
      "\n"
     ]
    }
   ],
   "source": [
    "# calls the verify contract\n",
    "\n",
    "# goes through each use case\n",
    "!npx hardhat run scripts/demo/verify.ts --network localhost\n"
   ]
  },
  {
   "cell_type": "markdown",
   "metadata": {},
   "source": [
    "Below will the the scripts for gathering metrics which are used in the evaluation of the report. \n",
    "\n",
    "They will include:\n",
    "- Gas for deploying contract\n",
    "- Gas for creating credential (minting NFT)\n",
    "- Gas for suspension, revocation and unsuspension of credential (NFT)\n",
    "- Gas for verification\n",
    "\n",
    "Remeber, gas is a measurement for the amount of computation required to execute the operation on the network. The gas fee is the gas multiplied by the gas cost. https://ethereum.org/en/developers/docs/gas/\n",
    "\n",
    "Metrics will be save to text files and graphs will be created in python."
   ]
  },
  {
   "cell_type": "code",
   "execution_count": null,
   "metadata": {},
   "outputs": [],
   "source": [
    "# Each contract is deployed 10 times with each including:\n",
    "#   100 licence NFT creations\n",
    "#   100 suspension\n",
    "#   100 revocations\n",
    "# Verification is done with 100 executions of each case:\n",
    "#   1. verify an NFT sent by an address which is not the owner\n",
    "#   2. verify an NFT which is suspended\n",
    "#   3. verify an NFT which is revoked\n",
    "#   4. verify a valid NFT\n",
    "\n",
    "# may take a bit of time to execute since on a public testnet...\n",
    "# NOTE: make sure you have enough eth in your wallet!\n",
    "!npx hardhat run scripts/demo/evaluation.ts --network sepolia"
   ]
  },
  {
   "cell_type": "code",
   "execution_count": 13,
   "metadata": {},
   "outputs": [
    {
     "name": "stdout",
     "output_type": "stream",
     "text": [
      "\u001b[33m\u001b[1mWARNING:\u001b[22m\u001b[39m You are currently using Node.js v21.4.0, which is not supported by Hardhat. This can lead to unexpected behavior. See https://hardhat.org/nodejs-versions\n",
      "\n",
      "\n",
      "test \u001b[33m0\u001b[39m\n",
      "Raw gas usage saved in sample/metrics/data_0.csv file\n",
      "test \u001b[33m1\u001b[39m\n",
      "Raw gas usage saved in sample/metrics/data_1.csv file\n",
      "test \u001b[33m2\u001b[39m\n",
      "Raw gas usage saved in sample/metrics/data_2.csv file\n",
      "test \u001b[33m3\u001b[39m\n",
      "Raw gas usage saved in sample/metrics/data_3.csv file\n",
      "test \u001b[33m4\u001b[39m\n",
      "Raw gas usage saved in sample/metrics/data_4.csv file\n",
      "test \u001b[33m5\u001b[39m\n",
      "Raw gas usage saved in sample/metrics/data_5.csv file\n",
      "test \u001b[33m6\u001b[39m\n",
      "Raw gas usage saved in sample/metrics/data_6.csv file\n",
      "test \u001b[33m7\u001b[39m\n",
      "Raw gas usage saved in sample/metrics/data_7.csv file\n",
      "test \u001b[33m8\u001b[39m\n",
      "Raw gas usage saved in sample/metrics/data_8.csv file\n",
      "test \u001b[33m9\u001b[39m\n",
      "Raw gas usage saved in sample/metrics/data_9.csv file\n"
     ]
    }
   ],
   "source": [
    "# Each contract is deployed 10 times with each including:\n",
    "#   100 licence NFT creations\n",
    "#   100 suspension\n",
    "#   100 revocations\n",
    "# Verification is done with 100 executions of each case:\n",
    "#   1. verify an NFT sent by an address which is not the owner\n",
    "#   2. verify an NFT which is suspended\n",
    "#   3. verify an NFT which is revoked\n",
    "#   4. verify a valid NFT\n",
    "\n",
    "# may take a few minutes to execute\n",
    "!npx hardhat run scripts/demo/evaluation.ts --network localhost"
   ]
  },
  {
   "cell_type": "code",
   "execution_count": 14,
   "metadata": {},
   "outputs": [],
   "source": [
    "def box_plot(names, x, save_location):\n",
    "    plt.figure(dpi=300)\n",
    "    plt.boxplot(x)\n",
    "    res_str = names[0]\n",
    "    if len(names) > 1:\n",
    "        for name in names[1:]:\n",
    "            res_str += \", \"+name\n",
    "    plt.title(\"Gas Used for {}\".format(res_str))\n",
    "    plt.ylabel(\"Gas\")\n",
    "    plt.xlabel(\"Test Number\")\n",
    "    # plt.xticks([i for i in range(1,len(names)+1)], [name for name in names])\n",
    "    plt.tight_layout()\n",
    "    plt.savefig(save_location+'_'.join(names)+\".jpg\")"
   ]
  },
  {
   "cell_type": "code",
   "execution_count": 15,
   "metadata": {},
   "outputs": [
    {
     "ename": "AttributeError",
     "evalue": "module 'os' has no attribute 'b64encodedir'",
     "output_type": "error",
     "traceback": [
      "\u001b[0;31m---------------------------------------------------------------------------\u001b[0m",
      "\u001b[0;31mAttributeError\u001b[0m                            Traceback (most recent call last)",
      "\u001b[0;32m/tmp/ipykernel_675/2788499435.py\u001b[0m in \u001b[0;36m<module>\u001b[0;34m\u001b[0m\n\u001b[1;32m     16\u001b[0m     \u001b[0;32mpass\u001b[0m\u001b[0;34m\u001b[0m\u001b[0;34m\u001b[0m\u001b[0m\n\u001b[1;32m     17\u001b[0m \u001b[0;34m\u001b[0m\u001b[0m\n\u001b[0;32m---> 18\u001b[0;31m \u001b[0;32mfor\u001b[0m \u001b[0mfilename\u001b[0m \u001b[0;32min\u001b[0m \u001b[0mos\u001b[0m\u001b[0;34m.\u001b[0m\u001b[0mb64encodedir\u001b[0m\u001b[0;34m(\u001b[0m\u001b[0mmetrics_path\u001b[0m\u001b[0;34m)\u001b[0m\u001b[0;34m:\u001b[0m\u001b[0;34m\u001b[0m\u001b[0;34m\u001b[0m\u001b[0m\n\u001b[0m\u001b[1;32m     19\u001b[0m     \u001b[0mdf\u001b[0m \u001b[0;34m=\u001b[0m \u001b[0mpd\u001b[0m\u001b[0;34m.\u001b[0m\u001b[0mread_csv\u001b[0m\u001b[0;34m(\u001b[0m\u001b[0mmetrics_path\u001b[0m\u001b[0;34m+\u001b[0m\u001b[0mfilename\u001b[0m\u001b[0;34m)\u001b[0m\u001b[0;34m\u001b[0m\u001b[0;34m\u001b[0m\u001b[0m\n\u001b[1;32m     20\u001b[0m     \u001b[0mdf_method\u001b[0m \u001b[0;34m=\u001b[0m \u001b[0mdf\u001b[0m\u001b[0;34m.\u001b[0m\u001b[0mgroupby\u001b[0m\u001b[0;34m(\u001b[0m\u001b[0;34m'method'\u001b[0m\u001b[0;34m)\u001b[0m\u001b[0;34m\u001b[0m\u001b[0;34m\u001b[0m\u001b[0m\n",
      "\u001b[0;31mAttributeError\u001b[0m: module 'os' has no attribute 'b64encodedir'"
     ]
    }
   ],
   "source": [
    "# Now the python code which generates graphs\n",
    "metrics_path = path+\"/metrics/\"\n",
    "graph_path = path+\"/graphs/\"\n",
    "\n",
    "deployment = []\n",
    "creation = []\n",
    "suspension = []\n",
    "revocation = []\n",
    "reinstation = []\n",
    "verification = []\n",
    "now = datetime.now().isoformat()\n",
    "test_path = os.path.join(graph_path, now)+\"/\"\n",
    "try:\n",
    "    os.mkdir(test_path)\n",
    "except:\n",
    "    pass\n",
    "for filename in os.listdir(metrics_path):\n",
    "    df = pd.read_csv(metrics_path+filename)\n",
    "    df_method = df.groupby('method')\n",
    "    # changing dytypes did not work, so doing this work around\n",
    "    deployment.append([int(x) for x in df_method.get_group(\"deployment\")[\"gas\"].values])\n",
    "    creation.append([int(x) for x in df_method.get_group(\"creation\")[\"gas\"].values])\n",
    "    suspension.append([int(x) for x in df_method.get_group(\"suspension\")[\"gas\"].values])\n",
    "    revocation.append([int(x) for x in df_method.get_group(\"revocation\")[\"gas\"].values])\n",
    "    reinstation.append([int(x) for x in df_method.get_group(\"reinstation\")[\"gas\"].values])\n",
    "    verification.append([int(x) for x in df_method.get_group(\"verification\")[\"gas\"].values])\n",
    "    \n",
    "box_plot([\"deployment\"], deployment, test_path)\n",
    "box_plot([\"creation\"], creation, test_path)\n",
    "box_plot([\"suspension\"],suspension, test_path)\n",
    "box_plot([\"revocation\"],revocation, test_path)\n",
    "box_plot([\"reinstation\"],reinstation, test_path)\n",
    "box_plot([\"verification\"], verification, test_path)\n",
    "\n",
    "# we get an intersting result for verification so create a histogram\n",
    "plt.figure(\"verification_hist\", dpi=300)\n",
    "res = plt.hist(verification,5, label = [\"test {}\".format(x) for x in range(1,11)])\n",
    "plt.title(\"Verification Gas Histogram\")\n",
    "plt.xlabel(\"Gas\")\n",
    "plt.ylabel(\"Amount of Test Records\")\n",
    "plt.legend() \n",
    "plt.ticklabel_format(style='sci',scilimits=(0,0),axis='x')\n",
    "plt.savefig(test_path+\"verification_hist.jpg\")\n",
    "\n",
    "\n",
    "plt.figure(\"creation_hist\", dpi=300)\n",
    "res = plt.hist(creation,5,label = [\"test {}\".format(x) for x in range(1,11)])\n",
    "plt.title(\"NFT Creation Gas Histogram\")\n",
    "plt.xlabel(\"Gas\")\n",
    "plt.ylabel(\"Amount of Test Records\")\n",
    "plt.legend() \n",
    "plt.ticklabel_format(style='sci',scilimits=(0,0),axis='x')\n",
    "plt.savefig(test_path+\"creation_hist.jpg\")\n"
   ]
  }
 ],
 "metadata": {
  "kernelspec": {
   "display_name": "Python 3",
   "language": "python",
   "name": "python3"
  },
  "language_info": {
   "codemirror_mode": {
    "name": "ipython",
    "version": 3
   },
   "file_extension": ".py",
   "mimetype": "text/x-python",
   "name": "python",
   "nbconvert_exporter": "python",
   "pygments_lexer": "ipython3",
   "version": "3.10.12"
  }
 },
 "nbformat": 4,
 "nbformat_minor": 2
}
